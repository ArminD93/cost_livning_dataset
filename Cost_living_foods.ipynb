{
  "nbformat": 4,
  "nbformat_minor": 0,
  "metadata": {
    "colab": {
      "name": "Cost_living - foods.ipynb",
      "provenance": [],
      "collapsed_sections": [],
      "mount_file_id": "1haBQ5uXyvzc-CNSXd4smZVP_ousAfoVw",
      "authorship_tag": "ABX9TyMxUnR1RKgc7zdO+rBEYV1d",
      "include_colab_link": true
    },
    "kernelspec": {
      "name": "python3",
      "display_name": "Python 3"
    }
  },
  "cells": [
    {
      "cell_type": "markdown",
      "metadata": {
        "id": "view-in-github",
        "colab_type": "text"
      },
      "source": [
        "<a href=\"https://colab.research.google.com/github/ArminD93/cost_livning_dataset/blob/dev/Cost_living_foods.ipynb\" target=\"_parent\"><img src=\"https://colab.research.google.com/assets/colab-badge.svg\" alt=\"Open In Colab\"/></a>"
      ]
    },
    {
      "cell_type": "code",
      "metadata": {
        "id": "CAID6Jm1TxJJ",
        "colab_type": "code",
        "outputId": "ac10e225-3295-409f-d9f7-6091a695b806",
        "colab": {
          "base_uri": "https://localhost:8080/",
          "height": 156
        }
      },
      "source": [
        "# Import zeszytu z ustawieniami:\n",
        "%cd '/content/drive/My Drive/ColabNotebooks/Cost_living/'\n",
        "%run Cost_living_configuration.ipynb"
      ],
      "execution_count": 1,
      "outputs": [
        {
          "output_type": "stream",
          "text": [
            "/content/drive/My Drive/ColabNotebooks/Cost_living\n",
            "<class 'pandas.core.frame.DataFrame'>\n",
            "RangeIndex: 45 entries, 0 to 44\n",
            "Columns: 162 entries, Unnamed: 0 to Quito, Ecuador\n",
            "dtypes: float64(160), object(2)\n",
            "memory usage: 64.1 KB\n"
          ],
          "name": "stdout"
        },
        {
          "output_type": "stream",
          "text": [
            "/usr/local/lib/python3.6/dist-packages/pandas/core/generic.py:3946: PerformanceWarning: dropping on a non-lexsorted multi-index without a level parameter may impact performance.\n",
            "  new_axis = axis.drop(labels, errors=errors)\n"
          ],
          "name": "stderr"
        }
      ]
    },
    {
      "cell_type": "code",
      "metadata": {
        "id": "ROTzTPLPT7AY",
        "colab_type": "code",
        "outputId": "f75fdc15-8da2-4d0e-b527-3ea1db7f2da4",
        "colab": {
          "base_uri": "https://localhost:8080/",
          "height": 292
        }
      },
      "source": [
        "# Utworzenie obiektu data frame, gdzie będą przechowywane informacje o jedzeniu:\n",
        "foods = df_transponed['foods']\n",
        "foods.head()"
      ],
      "execution_count": 3,
      "outputs": [
        {
          "output_type": "execute_result",
          "data": {
            "text/html": [
              "<div>\n",
              "<style scoped>\n",
              "    .dataframe tbody tr th:only-of-type {\n",
              "        vertical-align: middle;\n",
              "    }\n",
              "\n",
              "    .dataframe tbody tr th {\n",
              "        vertical-align: top;\n",
              "    }\n",
              "\n",
              "    .dataframe thead th {\n",
              "        text-align: right;\n",
              "    }\n",
              "</style>\n",
              "<table border=\"1\" class=\"dataframe\">\n",
              "  <thead>\n",
              "    <tr style=\"text-align: right;\">\n",
              "      <th></th>\n",
              "      <th></th>\n",
              "      <th>Unnamed: 0</th>\n",
              "      <th>12Eggs</th>\n",
              "      <th>Apples_1kg</th>\n",
              "      <th>Banana_1kg</th>\n",
              "      <th>Cheese_1kg</th>\n",
              "      <th>ChickenBreasts_1kg</th>\n",
              "      <th>Lettuce_1head</th>\n",
              "      <th>LoafofBread_500g</th>\n",
              "      <th>Meal2People_MidRestaunant_3-course</th>\n",
              "      <th>Meal_InexpRestaurant</th>\n",
              "      <th>Onion_1kg</th>\n",
              "      <th>Oranges_1kg</th>\n",
              "      <th>Potato_1kg</th>\n",
              "      <th>RiceWhite_1kg</th>\n",
              "      <th>Tomato_1kg</th>\n",
              "    </tr>\n",
              "    <tr>\n",
              "      <th>Region</th>\n",
              "      <th>Country</th>\n",
              "      <th>City</th>\n",
              "      <th></th>\n",
              "      <th></th>\n",
              "      <th></th>\n",
              "      <th></th>\n",
              "      <th></th>\n",
              "      <th></th>\n",
              "      <th></th>\n",
              "      <th></th>\n",
              "      <th></th>\n",
              "      <th></th>\n",
              "      <th></th>\n",
              "      <th></th>\n",
              "      <th></th>\n",
              "      <th></th>\n",
              "    </tr>\n",
              "  </thead>\n",
              "  <tbody>\n",
              "    <tr>\n",
              "      <th>Caribbean</th>\n",
              "      <th>Dominican Republic</th>\n",
              "      <th>Santo Domingo</th>\n",
              "      <td>1.64</td>\n",
              "      <td>1.75</td>\n",
              "      <td>0.63</td>\n",
              "      <td>6.01</td>\n",
              "      <td>4.47</td>\n",
              "      <td>0.96</td>\n",
              "      <td>1.23</td>\n",
              "      <td>34.01</td>\n",
              "      <td>5.10</td>\n",
              "      <td>1.59</td>\n",
              "      <td>1.33</td>\n",
              "      <td>1.23</td>\n",
              "      <td>0.93</td>\n",
              "      <td>1.02</td>\n",
              "    </tr>\n",
              "    <tr>\n",
              "      <th rowspan=\"4\" valign=\"top\">Central America</th>\n",
              "      <th>Costa Rica</th>\n",
              "      <th>San Jose</th>\n",
              "      <td>2.50</td>\n",
              "      <td>3.76</td>\n",
              "      <td>1.29</td>\n",
              "      <td>5.94</td>\n",
              "      <td>7.01</td>\n",
              "      <td>0.94</td>\n",
              "      <td>1.69</td>\n",
              "      <td>42.47</td>\n",
              "      <td>6.29</td>\n",
              "      <td>1.92</td>\n",
              "      <td>2.08</td>\n",
              "      <td>1.81</td>\n",
              "      <td>1.82</td>\n",
              "      <td>2.28</td>\n",
              "    </tr>\n",
              "    <tr>\n",
              "      <th rowspan=\"3\" valign=\"top\">Mexico</th>\n",
              "      <th>Guadalajara</th>\n",
              "      <td>1.25</td>\n",
              "      <td>1.96</td>\n",
              "      <td>0.94</td>\n",
              "      <td>4.09</td>\n",
              "      <td>4.65</td>\n",
              "      <td>0.73</td>\n",
              "      <td>1.35</td>\n",
              "      <td>23.86</td>\n",
              "      <td>5.25</td>\n",
              "      <td>1.03</td>\n",
              "      <td>1.02</td>\n",
              "      <td>1.00</td>\n",
              "      <td>1.04</td>\n",
              "      <td>0.98</td>\n",
              "    </tr>\n",
              "    <tr>\n",
              "      <th>Mexico City</th>\n",
              "      <td>1.36</td>\n",
              "      <td>1.93</td>\n",
              "      <td>0.95</td>\n",
              "      <td>4.93</td>\n",
              "      <td>4.41</td>\n",
              "      <td>0.76</td>\n",
              "      <td>1.44</td>\n",
              "      <td>23.86</td>\n",
              "      <td>4.77</td>\n",
              "      <td>1.13</td>\n",
              "      <td>0.82</td>\n",
              "      <td>1.07</td>\n",
              "      <td>0.95</td>\n",
              "      <td>1.05</td>\n",
              "    </tr>\n",
              "    <tr>\n",
              "      <th>Monterrey</th>\n",
              "      <td>1.60</td>\n",
              "      <td>2.14</td>\n",
              "      <td>0.88</td>\n",
              "      <td>5.20</td>\n",
              "      <td>4.72</td>\n",
              "      <td>0.79</td>\n",
              "      <td>1.51</td>\n",
              "      <td>23.94</td>\n",
              "      <td>5.75</td>\n",
              "      <td>1.44</td>\n",
              "      <td>1.01</td>\n",
              "      <td>1.21</td>\n",
              "      <td>0.87</td>\n",
              "      <td>1.23</td>\n",
              "    </tr>\n",
              "  </tbody>\n",
              "</table>\n",
              "</div>"
            ],
            "text/plain": [
              "Unnamed: 0                                        12Eggs  ...  Tomato_1kg\n",
              "Region          Country            City                   ...            \n",
              "Caribbean       Dominican Republic Santo Domingo    1.64  ...        1.02\n",
              "Central America Costa Rica         San Jose         2.50  ...        2.28\n",
              "                Mexico             Guadalajara      1.25  ...        0.98\n",
              "                                   Mexico City      1.36  ...        1.05\n",
              "                                   Monterrey        1.60  ...        1.23\n",
              "\n",
              "[5 rows x 14 columns]"
            ]
          },
          "metadata": {
            "tags": []
          },
          "execution_count": 3
        }
      ]
    },
    {
      "cell_type": "code",
      "metadata": {
        "id": "z9dV53EWuWIa",
        "colab_type": "code",
        "outputId": "a6785d22-a25a-431c-dad3-609c26fcd08e",
        "colab": {
          "base_uri": "https://localhost:8080/",
          "height": 347
        }
      },
      "source": [
        "foods.info(memory_usage='deep')"
      ],
      "execution_count": 4,
      "outputs": [
        {
          "output_type": "stream",
          "text": [
            "<class 'pandas.core.frame.DataFrame'>\n",
            "MultiIndex: 160 entries, (Caribbean, Dominican Republic, Santo Domingo) to (Western Europe, Switzerland, Zurich)\n",
            "Data columns (total 14 columns):\n",
            "12Eggs                                160 non-null float64\n",
            "Apples_1kg                            160 non-null float64\n",
            "Banana_1kg                            160 non-null float64\n",
            "Cheese_1kg                            160 non-null float64\n",
            "ChickenBreasts_1kg                    160 non-null float64\n",
            "Lettuce_1head                         160 non-null float64\n",
            "LoafofBread_500g                      160 non-null float64\n",
            "Meal2People_MidRestaunant_3-course    160 non-null float64\n",
            "Meal_InexpRestaurant                  160 non-null float64\n",
            "Onion_1kg                             160 non-null float64\n",
            "Oranges_1kg                           160 non-null float64\n",
            "Potato_1kg                            160 non-null float64\n",
            "RiceWhite_1kg                         160 non-null float64\n",
            "Tomato_1kg                            160 non-null float64\n",
            "dtypes: float64(14)\n",
            "memory usage: 35.4 KB\n"
          ],
          "name": "stdout"
        }
      ]
    },
    {
      "cell_type": "code",
      "metadata": {
        "id": "Uv1lDIWPT7N7",
        "colab_type": "code",
        "outputId": "0a451554-6b47-48a7-9231-c56a6db98369",
        "colab": {
          "base_uri": "https://localhost:8080/",
          "height": 399
        }
      },
      "source": [
        "foods.index"
      ],
      "execution_count": 6,
      "outputs": [
        {
          "output_type": "execute_result",
          "data": {
            "text/plain": [
              "MultiIndex([(      'Caribbean', 'Dominican Republic', 'Santo Domingo'),\n",
              "            ('Central America',         'Costa Rica',      'San Jose'),\n",
              "            ('Central America',             'Mexico',   'Guadalajara'),\n",
              "            ('Central America',             'Mexico',   'Mexico City'),\n",
              "            ('Central America',             'Mexico',     'Monterrey'),\n",
              "            ('Central America',             'Panama',   'Panama City'),\n",
              "            (   'Central Asia',         'Kazakhstan',        'Almaty'),\n",
              "            ( 'Eastern Africa',              'Kenya',       'Nairobi'),\n",
              "            (   'Eastern Asia',              'China',       'Beijing'),\n",
              "            (   'Eastern Asia',              'China',      'Shanghai'),\n",
              "            ...\n",
              "            ( 'Western Europe',             'France',         'Paris'),\n",
              "            ( 'Western Europe',            'Germany',        'Berlin'),\n",
              "            ( 'Western Europe',            'Germany',     'Frankfurt'),\n",
              "            ( 'Western Europe',            'Germany',       'Hamburg'),\n",
              "            ( 'Western Europe',            'Germany',        'Munich'),\n",
              "            ( 'Western Europe',        'Netherlands',     'Amsterdam'),\n",
              "            ( 'Western Europe',        'Netherlands',     'Eindhoven'),\n",
              "            ( 'Western Europe',        'Netherlands',     'Rotterdam'),\n",
              "            ( 'Western Europe',        'Netherlands',       'Utrecht'),\n",
              "            ( 'Western Europe',        'Switzerland',        'Zurich')],\n",
              "           names=['Region', 'Country', 'City'], length=160)"
            ]
          },
          "metadata": {
            "tags": []
          },
          "execution_count": 6
        }
      ]
    }
  ]
}