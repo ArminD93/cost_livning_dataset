{
  "nbformat": 4,
  "nbformat_minor": 0,
  "metadata": {
    "colab": {
      "name": "Cost_living - transport.ipynb",
      "provenance": [],
      "collapsed_sections": [],
      "mount_file_id": "18ZdM5SAyekTRQNaBOq3tBbDrgMi2V2St",
      "authorship_tag": "ABX9TyPNDcTwCEIpGe0Rm+vAGl8B",
      "include_colab_link": true
    },
    "kernelspec": {
      "name": "python3",
      "display_name": "Python 3"
    }
  },
  "cells": [
    {
      "cell_type": "markdown",
      "metadata": {
        "id": "view-in-github",
        "colab_type": "text"
      },
      "source": [
        "<a href=\"https://colab.research.google.com/github/ArminD93/cost_livning_dataset/blob/dev/Cost_living_transport.ipynb\" target=\"_parent\"><img src=\"https://colab.research.google.com/assets/colab-badge.svg\" alt=\"Open In Colab\"/></a>"
      ]
    },
    {
      "cell_type": "code",
      "metadata": {
        "id": "CAID6Jm1TxJJ",
        "colab_type": "code",
        "outputId": "b4fa02cc-d032-440c-ccd8-fb384539571b",
        "colab": {
          "base_uri": "https://localhost:8080/",
          "height": 156
        }
      },
      "source": [
        "# Import zeszytu z ustawieniami:\n",
        "%cd '/content/drive/My Drive/ColabNotebooks/Cost_living/'\n",
        "%run Cost_living_configuration.ipynb"
      ],
      "execution_count": 1,
      "outputs": [
        {
          "output_type": "stream",
          "text": [
            "/content/drive/My Drive/ColabNotebooks/Cost_living\n",
            "<class 'pandas.core.frame.DataFrame'>\n",
            "RangeIndex: 45 entries, 0 to 44\n",
            "Columns: 162 entries, Unnamed: 0 to Quito, Ecuador\n",
            "dtypes: float64(160), object(2)\n",
            "memory usage: 64.1 KB\n"
          ],
          "name": "stdout"
        },
        {
          "output_type": "stream",
          "text": [
            "/usr/local/lib/python3.6/dist-packages/pandas/core/generic.py:3946: PerformanceWarning: dropping on a non-lexsorted multi-index without a level parameter may impact performance.\n",
            "  new_axis = axis.drop(labels, errors=errors)\n"
          ],
          "name": "stderr"
        }
      ]
    },
    {
      "cell_type": "code",
      "metadata": {
        "id": "ROTzTPLPT7AY",
        "colab_type": "code",
        "outputId": "c499f642-b60f-414a-fc66-3daf41056a76",
        "colab": {
          "base_uri": "https://localhost:8080/",
          "height": 272
        }
      },
      "source": [
        "# Utworzenie obiektu data frame, gdzie będą przechowywane informacje o transporcie:\n",
        "transport = df_transponed['transport']\n",
        "transport.head()"
      ],
      "execution_count": 2,
      "outputs": [
        {
          "output_type": "execute_result",
          "data": {
            "text/html": [
              "<div>\n",
              "<style scoped>\n",
              "    .dataframe tbody tr th:only-of-type {\n",
              "        vertical-align: middle;\n",
              "    }\n",
              "\n",
              "    .dataframe tbody tr th {\n",
              "        vertical-align: top;\n",
              "    }\n",
              "\n",
              "    .dataframe thead th {\n",
              "        text-align: right;\n",
              "    }\n",
              "</style>\n",
              "<table border=\"1\" class=\"dataframe\">\n",
              "  <thead>\n",
              "    <tr style=\"text-align: right;\">\n",
              "      <th></th>\n",
              "      <th></th>\n",
              "      <th>Unnamed: 0</th>\n",
              "      <th>Gasoline_1l</th>\n",
              "      <th>MonthlyPass_Regular</th>\n",
              "      <th>OneWay_Ticket_LocalTransport</th>\n",
              "      <th>Taxi_1h_Waiting</th>\n",
              "      <th>Taxi_1km</th>\n",
              "      <th>Taxi_Start</th>\n",
              "      <th>Toyota Corolla_Or_New Car</th>\n",
              "      <th>VolkswagenGolf_car</th>\n",
              "    </tr>\n",
              "    <tr>\n",
              "      <th>Region</th>\n",
              "      <th>Country</th>\n",
              "      <th>City</th>\n",
              "      <th></th>\n",
              "      <th></th>\n",
              "      <th></th>\n",
              "      <th></th>\n",
              "      <th></th>\n",
              "      <th></th>\n",
              "      <th></th>\n",
              "      <th></th>\n",
              "    </tr>\n",
              "  </thead>\n",
              "  <tbody>\n",
              "    <tr>\n",
              "      <th>Caribbean</th>\n",
              "      <th>Dominican Republic</th>\n",
              "      <th>Santo Domingo</th>\n",
              "      <td>1.05</td>\n",
              "      <td>34.01</td>\n",
              "      <td>0.43</td>\n",
              "      <td>3.40</td>\n",
              "      <td>2.55</td>\n",
              "      <td>3.40</td>\n",
              "      <td>20430.09</td>\n",
              "      <td>20780.40</td>\n",
              "    </tr>\n",
              "    <tr>\n",
              "      <th rowspan=\"4\" valign=\"top\">Central America</th>\n",
              "      <th>Costa Rica</th>\n",
              "      <th>San Jose</th>\n",
              "      <td>1.00</td>\n",
              "      <td>42.12</td>\n",
              "      <td>0.63</td>\n",
              "      <td>5.95</td>\n",
              "      <td>1.04</td>\n",
              "      <td>1.02</td>\n",
              "      <td>23528.04</td>\n",
              "      <td>20446.99</td>\n",
              "    </tr>\n",
              "    <tr>\n",
              "      <th rowspan=\"3\" valign=\"top\">Mexico</th>\n",
              "      <th>Guadalajara</th>\n",
              "      <td>1.00</td>\n",
              "      <td>18.67</td>\n",
              "      <td>0.43</td>\n",
              "      <td>7.16</td>\n",
              "      <td>0.46</td>\n",
              "      <td>1.43</td>\n",
              "      <td>15579.09</td>\n",
              "      <td>16535.22</td>\n",
              "    </tr>\n",
              "    <tr>\n",
              "      <th>Mexico City</th>\n",
              "      <td>0.98</td>\n",
              "      <td>14.32</td>\n",
              "      <td>0.29</td>\n",
              "      <td>4.94</td>\n",
              "      <td>0.29</td>\n",
              "      <td>0.62</td>\n",
              "      <td>14844.85</td>\n",
              "      <td>16702.48</td>\n",
              "    </tr>\n",
              "    <tr>\n",
              "      <th>Monterrey</th>\n",
              "      <td>0.97</td>\n",
              "      <td>17.96</td>\n",
              "      <td>0.57</td>\n",
              "      <td>7.18</td>\n",
              "      <td>0.38</td>\n",
              "      <td>0.67</td>\n",
              "      <td>14421.34</td>\n",
              "      <td>16424.20</td>\n",
              "    </tr>\n",
              "  </tbody>\n",
              "</table>\n",
              "</div>"
            ],
            "text/plain": [
              "Unnamed: 0                                        Gasoline_1l  ...  VolkswagenGolf_car\n",
              "Region          Country            City                        ...                    \n",
              "Caribbean       Dominican Republic Santo Domingo         1.05  ...            20780.40\n",
              "Central America Costa Rica         San Jose              1.00  ...            20446.99\n",
              "                Mexico             Guadalajara           1.00  ...            16535.22\n",
              "                                   Mexico City           0.98  ...            16702.48\n",
              "                                   Monterrey             0.97  ...            16424.20\n",
              "\n",
              "[5 rows x 8 columns]"
            ]
          },
          "metadata": {
            "tags": []
          },
          "execution_count": 2
        }
      ]
    },
    {
      "cell_type": "code",
      "metadata": {
        "id": "z9dV53EWuWIa",
        "colab_type": "code",
        "outputId": "8e31c289-294f-4ebc-c96d-d83b75d08839",
        "colab": {
          "base_uri": "https://localhost:8080/",
          "height": 243
        }
      },
      "source": [
        "transport.info(memory_usage='deep')"
      ],
      "execution_count": 3,
      "outputs": [
        {
          "output_type": "stream",
          "text": [
            "<class 'pandas.core.frame.DataFrame'>\n",
            "MultiIndex: 160 entries, (Caribbean, Dominican Republic, Santo Domingo) to (Western Europe, Switzerland, Zurich)\n",
            "Data columns (total 8 columns):\n",
            "Gasoline_1l                     160 non-null float64\n",
            "MonthlyPass_Regular             160 non-null float64\n",
            "OneWay_Ticket_LocalTransport    160 non-null float64\n",
            "Taxi_1h_Waiting                 160 non-null float64\n",
            "Taxi_1km                        160 non-null float64\n",
            "Taxi_Start                      160 non-null float64\n",
            "Toyota Corolla_Or_New Car       160 non-null float64\n",
            "VolkswagenGolf_car              160 non-null float64\n",
            "dtypes: float64(8)\n",
            "memory usage: 27.9 KB\n"
          ],
          "name": "stdout"
        }
      ]
    },
    {
      "cell_type": "code",
      "metadata": {
        "id": "Uv1lDIWPT7N7",
        "colab_type": "code",
        "outputId": "6820e4b8-d342-45db-858c-306793995680",
        "colab": {
          "base_uri": "https://localhost:8080/",
          "height": 399
        }
      },
      "source": [
        "transport.index"
      ],
      "execution_count": 4,
      "outputs": [
        {
          "output_type": "execute_result",
          "data": {
            "text/plain": [
              "MultiIndex([(      'Caribbean', 'Dominican Republic', 'Santo Domingo'),\n",
              "            ('Central America',         'Costa Rica',      'San Jose'),\n",
              "            ('Central America',             'Mexico',   'Guadalajara'),\n",
              "            ('Central America',             'Mexico',   'Mexico City'),\n",
              "            ('Central America',             'Mexico',     'Monterrey'),\n",
              "            ('Central America',             'Panama',   'Panama City'),\n",
              "            (   'Central Asia',         'Kazakhstan',        'Almaty'),\n",
              "            ( 'Eastern Africa',              'Kenya',       'Nairobi'),\n",
              "            (   'Eastern Asia',              'China',       'Beijing'),\n",
              "            (   'Eastern Asia',              'China',      'Shanghai'),\n",
              "            ...\n",
              "            ( 'Western Europe',             'France',         'Paris'),\n",
              "            ( 'Western Europe',            'Germany',        'Berlin'),\n",
              "            ( 'Western Europe',            'Germany',     'Frankfurt'),\n",
              "            ( 'Western Europe',            'Germany',       'Hamburg'),\n",
              "            ( 'Western Europe',            'Germany',        'Munich'),\n",
              "            ( 'Western Europe',        'Netherlands',     'Amsterdam'),\n",
              "            ( 'Western Europe',        'Netherlands',     'Eindhoven'),\n",
              "            ( 'Western Europe',        'Netherlands',     'Rotterdam'),\n",
              "            ( 'Western Europe',        'Netherlands',       'Utrecht'),\n",
              "            ( 'Western Europe',        'Switzerland',        'Zurich')],\n",
              "           names=['Region', 'Country', 'City'], length=160)"
            ]
          },
          "metadata": {
            "tags": []
          },
          "execution_count": 4
        }
      ]
    }
  ]
}