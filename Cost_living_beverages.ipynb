{
  "nbformat": 4,
  "nbformat_minor": 0,
  "metadata": {
    "colab": {
      "name": "Cost_living - beverages.ipynb",
      "provenance": [],
      "collapsed_sections": [],
      "mount_file_id": "1cjDeYz3ZFt2fnivABCFlMhlbx85PS0is",
      "authorship_tag": "ABX9TyPi0MzdlNjfbUqXNNMju0Fv",
      "include_colab_link": true
    },
    "kernelspec": {
      "name": "python3",
      "display_name": "Python 3"
    }
  },
  "cells": [
    {
      "cell_type": "markdown",
      "metadata": {
        "id": "view-in-github",
        "colab_type": "text"
      },
      "source": [
        "<a href=\"https://colab.research.google.com/github/ArminD93/cost_livning_dataset/blob/dev/Cost_living_beverages.ipynb\" target=\"_parent\"><img src=\"https://colab.research.google.com/assets/colab-badge.svg\" alt=\"Open In Colab\"/></a>"
      ]
    },
    {
      "cell_type": "code",
      "metadata": {
        "id": "CAID6Jm1TxJJ",
        "colab_type": "code",
        "outputId": "2f621d4a-a972-4bab-bad3-473f12c5d870",
        "colab": {
          "base_uri": "https://localhost:8080/",
          "height": 156
        }
      },
      "source": [
        "# Import zeszytu z ustawieniami:\n",
        "%cd '/content/drive/My Drive/ColabNotebooks/Cost_living/'\n",
        "%run Cost_living_configuration.ipynb"
      ],
      "execution_count": 0,
      "outputs": [
        {
          "output_type": "stream",
          "text": [
            "/content/drive/My Drive/ColabNotebooks/Cost_living\n",
            "<class 'pandas.core.frame.DataFrame'>\n",
            "RangeIndex: 45 entries, 0 to 44\n",
            "Columns: 162 entries, Unnamed: 0 to Quito, Ecuador\n",
            "dtypes: float64(160), object(2)\n",
            "memory usage: 64.1 KB\n"
          ],
          "name": "stdout"
        },
        {
          "output_type": "stream",
          "text": [
            "/usr/local/lib/python3.6/dist-packages/pandas/core/generic.py:3946: PerformanceWarning: dropping on a non-lexsorted multi-index without a level parameter may impact performance.\n",
            "  new_axis = axis.drop(labels, errors=errors)\n"
          ],
          "name": "stderr"
        }
      ]
    },
    {
      "cell_type": "code",
      "metadata": {
        "id": "ROTzTPLPT7AY",
        "colab_type": "code",
        "outputId": "f9430ac1-7538-4396-a0e5-3ef4b395f120",
        "colab": {
          "base_uri": "https://localhost:8080/",
          "height": 237
        }
      },
      "source": [
        "# Utworzenie obiektu data frame, gdzie będą przechowywane informacje o napojach:\n",
        "beverages = df_transponed['beverages']\n",
        "beverages.head()"
      ],
      "execution_count": 0,
      "outputs": [
        {
          "output_type": "execute_result",
          "data": {
            "text/html": [
              "<div>\n",
              "<style scoped>\n",
              "    .dataframe tbody tr th:only-of-type {\n",
              "        vertical-align: middle;\n",
              "    }\n",
              "\n",
              "    .dataframe tbody tr th {\n",
              "        vertical-align: top;\n",
              "    }\n",
              "\n",
              "    .dataframe thead th {\n",
              "        text-align: right;\n",
              "    }\n",
              "</style>\n",
              "<table border=\"1\" class=\"dataframe\">\n",
              "  <thead>\n",
              "    <tr style=\"text-align: right;\">\n",
              "      <th></th>\n",
              "      <th></th>\n",
              "      <th>Unnamed: 0</th>\n",
              "      <th>Cappuccino_1cup</th>\n",
              "      <th>Milk_1l</th>\n",
              "      <th>Water_0.33l_bottle</th>\n",
              "      <th>Water_1.5l_bottle</th>\n",
              "    </tr>\n",
              "    <tr>\n",
              "      <th>Region</th>\n",
              "      <th>Country</th>\n",
              "      <th>City</th>\n",
              "      <th></th>\n",
              "      <th></th>\n",
              "      <th></th>\n",
              "      <th></th>\n",
              "    </tr>\n",
              "  </thead>\n",
              "  <tbody>\n",
              "    <tr>\n",
              "      <th>Caribbean</th>\n",
              "      <th>Dominican Republic</th>\n",
              "      <th>Santo Domingo</th>\n",
              "      <td>1.51</td>\n",
              "      <td>1.03</td>\n",
              "      <td>0.46</td>\n",
              "      <td>1.17</td>\n",
              "    </tr>\n",
              "    <tr>\n",
              "      <th rowspan=\"4\" valign=\"top\">Central America</th>\n",
              "      <th>Costa Rica</th>\n",
              "      <th>San Jose</th>\n",
              "      <td>2.64</td>\n",
              "      <td>1.23</td>\n",
              "      <td>1.18</td>\n",
              "      <td>2.16</td>\n",
              "    </tr>\n",
              "    <tr>\n",
              "      <th rowspan=\"3\" valign=\"top\">Mexico</th>\n",
              "      <th>Guadalajara</th>\n",
              "      <td>1.99</td>\n",
              "      <td>0.87</td>\n",
              "      <td>0.51</td>\n",
              "      <td>0.73</td>\n",
              "    </tr>\n",
              "    <tr>\n",
              "      <th>Mexico City</th>\n",
              "      <td>2.00</td>\n",
              "      <td>0.91</td>\n",
              "      <td>0.47</td>\n",
              "      <td>0.66</td>\n",
              "    </tr>\n",
              "    <tr>\n",
              "      <th>Monterrey</th>\n",
              "      <td>2.28</td>\n",
              "      <td>0.91</td>\n",
              "      <td>0.54</td>\n",
              "      <td>0.79</td>\n",
              "    </tr>\n",
              "  </tbody>\n",
              "</table>\n",
              "</div>"
            ],
            "text/plain": [
              "Unnamed: 0                                        Cappuccino_1cup  ...  Water_1.5l_bottle\n",
              "Region          Country            City                            ...                   \n",
              "Caribbean       Dominican Republic Santo Domingo             1.51  ...               1.17\n",
              "Central America Costa Rica         San Jose                  2.64  ...               2.16\n",
              "                Mexico             Guadalajara               1.99  ...               0.73\n",
              "                                   Mexico City               2.00  ...               0.66\n",
              "                                   Monterrey                 2.28  ...               0.79\n",
              "\n",
              "[5 rows x 4 columns]"
            ]
          },
          "metadata": {
            "tags": []
          },
          "execution_count": 4
        }
      ]
    },
    {
      "cell_type": "code",
      "metadata": {
        "id": "z9dV53EWuWIa",
        "colab_type": "code",
        "outputId": "0e8b0b88-d670-47df-c8b4-0610458efbc0",
        "colab": {
          "base_uri": "https://localhost:8080/",
          "height": 173
        }
      },
      "source": [
        "beverages.info(memory_usage='deep')"
      ],
      "execution_count": 0,
      "outputs": [
        {
          "output_type": "stream",
          "text": [
            "<class 'pandas.core.frame.DataFrame'>\n",
            "MultiIndex: 160 entries, (Caribbean, Dominican Republic, Santo Domingo) to (Western Europe, Switzerland, Zurich)\n",
            "Data columns (total 4 columns):\n",
            "Cappuccino_1cup       160 non-null float64\n",
            "Milk_1l               160 non-null float64\n",
            "Water_0.33l_bottle    160 non-null float64\n",
            "Water_1.5l_bottle     160 non-null float64\n",
            "dtypes: float64(4)\n",
            "memory usage: 22.9 KB\n"
          ],
          "name": "stdout"
        }
      ]
    },
    {
      "cell_type": "code",
      "metadata": {
        "id": "Uv1lDIWPT7N7",
        "colab_type": "code",
        "outputId": "7f63195b-242a-4e1a-b53b-eb370eb18dd9",
        "colab": {
          "base_uri": "https://localhost:8080/",
          "height": 399
        }
      },
      "source": [
        "beverages.index"
      ],
      "execution_count": 0,
      "outputs": [
        {
          "output_type": "execute_result",
          "data": {
            "text/plain": [
              "MultiIndex([(      'Caribbean', 'Dominican Republic', 'Santo Domingo'),\n",
              "            ('Central America',         'Costa Rica',      'San Jose'),\n",
              "            ('Central America',             'Mexico',   'Guadalajara'),\n",
              "            ('Central America',             'Mexico',   'Mexico City'),\n",
              "            ('Central America',             'Mexico',     'Monterrey'),\n",
              "            ('Central America',             'Panama',   'Panama City'),\n",
              "            (   'Central Asia',         'Kazakhstan',        'Almaty'),\n",
              "            ( 'Eastern Africa',              'Kenya',       'Nairobi'),\n",
              "            (   'Eastern Asia',              'China',       'Beijing'),\n",
              "            (   'Eastern Asia',              'China',      'Shanghai'),\n",
              "            ...\n",
              "            ( 'Western Europe',             'France',         'Paris'),\n",
              "            ( 'Western Europe',            'Germany',        'Berlin'),\n",
              "            ( 'Western Europe',            'Germany',     'Frankfurt'),\n",
              "            ( 'Western Europe',            'Germany',       'Hamburg'),\n",
              "            ( 'Western Europe',            'Germany',        'Munich'),\n",
              "            ( 'Western Europe',        'Netherlands',     'Amsterdam'),\n",
              "            ( 'Western Europe',        'Netherlands',     'Eindhoven'),\n",
              "            ( 'Western Europe',        'Netherlands',     'Rotterdam'),\n",
              "            ( 'Western Europe',        'Netherlands',       'Utrecht'),\n",
              "            ( 'Western Europe',        'Switzerland',        'Zurich')],\n",
              "           names=['Region', 'Country', 'City'], length=160)"
            ]
          },
          "metadata": {
            "tags": []
          },
          "execution_count": 6
        }
      ]
    },
    {
      "cell_type": "code",
      "metadata": {
        "id": "rbhWiQSJAu4y",
        "colab_type": "code",
        "colab": {}
      },
      "source": [
        ""
      ],
      "execution_count": 0,
      "outputs": []
    }
  ]
}