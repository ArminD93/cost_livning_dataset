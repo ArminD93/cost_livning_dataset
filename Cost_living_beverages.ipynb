{
  "nbformat": 4,
  "nbformat_minor": 0,
  "metadata": {
    "colab": {
      "name": "Cost_living - beverages.ipynb",
      "provenance": [],
      "collapsed_sections": [],
      "mount_file_id": "1cjDeYz3ZFt2fnivABCFlMhlbx85PS0is",
      "authorship_tag": "ABX9TyOnklpU5B2PkoLlsQKpQhxn",
      "include_colab_link": true
    },
    "kernelspec": {
      "name": "python3",
      "display_name": "Python 3"
    }
  },
  "cells": [
    {
      "cell_type": "markdown",
      "metadata": {
        "id": "view-in-github",
        "colab_type": "text"
      },
      "source": [
        "<a href=\"https://colab.research.google.com/github/ArminD93/cost_livning_dataset/blob/dev/Cost_living_beverages.ipynb\" target=\"_parent\"><img src=\"https://colab.research.google.com/assets/colab-badge.svg\" alt=\"Open In Colab\"/></a>"
      ]
    },
    {
      "cell_type": "code",
      "metadata": {
        "id": "CAID6Jm1TxJJ",
        "colab_type": "code",
        "outputId": "728eb3e8-2632-41ef-90c6-40224611ab88",
        "colab": {
          "base_uri": "https://localhost:8080/",
          "height": 191
        }
      },
      "source": [
        "# Import zeszytu z ustawieniami:\n",
        "%cd '/content/drive/My Drive/ColabNotebooks/Cost_living/'\n",
        "%run Cost_living_configuration.ipynb"
      ],
      "execution_count": 1,
      "outputs": [
        {
          "output_type": "stream",
          "text": [
            "/content/drive/My Drive/ColabNotebooks/Cost_living\n"
          ],
          "name": "stdout"
        },
        {
          "output_type": "stream",
          "text": [
            "/usr/local/lib/python3.6/dist-packages/statsmodels/tools/_testing.py:19: FutureWarning: pandas.util.testing is deprecated. Use the functions in the public API at pandas.testing instead.\n",
            "  import pandas.util.testing as tm\n",
            "/usr/local/lib/python3.6/dist-packages/pandas/core/generic.py:3936: PerformanceWarning: dropping on a non-lexsorted multi-index without a level parameter may impact performance.\n",
            "  obj = obj._drop_axis(labels, axis, level=level, errors=errors)\n"
          ],
          "name": "stderr"
        },
        {
          "output_type": "stream",
          "text": [
            "<class 'pandas.core.frame.DataFrame'>\n",
            "RangeIndex: 45 entries, 0 to 44\n",
            "Columns: 162 entries, Unnamed: 0 to Quito, Ecuador\n",
            "dtypes: float64(160), object(2)\n",
            "memory usage: 64.1 KB\n"
          ],
          "name": "stdout"
        }
      ]
    },
    {
      "cell_type": "code",
      "metadata": {
        "id": "ROTzTPLPT7AY",
        "colab_type": "code",
        "outputId": "df865fcf-96bc-45df-b45f-f5a27bcebdaf",
        "colab": {
          "base_uri": "https://localhost:8080/",
          "height": 238
        }
      },
      "source": [
        "# Utworzenie obiektu data frame, gdzie będą przechowywane informacje o napojach:\n",
        "beverages = df_transponed['beverages']\n",
        "\n",
        "DistributionObj = Distribution(beverages)\n",
        "CorrelationObj = Correlation(dataset=beverages)\n",
        "\n",
        "\n",
        "beverages.head()"
      ],
      "execution_count": 2,
      "outputs": [
        {
          "output_type": "execute_result",
          "data": {
            "text/html": [
              "<div>\n",
              "<style scoped>\n",
              "    .dataframe tbody tr th:only-of-type {\n",
              "        vertical-align: middle;\n",
              "    }\n",
              "\n",
              "    .dataframe tbody tr th {\n",
              "        vertical-align: top;\n",
              "    }\n",
              "\n",
              "    .dataframe thead th {\n",
              "        text-align: right;\n",
              "    }\n",
              "</style>\n",
              "<table border=\"1\" class=\"dataframe\">\n",
              "  <thead>\n",
              "    <tr style=\"text-align: right;\">\n",
              "      <th></th>\n",
              "      <th></th>\n",
              "      <th>Unnamed: 0</th>\n",
              "      <th>Cappuccino_1cup</th>\n",
              "      <th>Milk_1l</th>\n",
              "      <th>Water_0.33l_bottle</th>\n",
              "      <th>Water_1.5l_bottle</th>\n",
              "    </tr>\n",
              "    <tr>\n",
              "      <th>Region</th>\n",
              "      <th>Country</th>\n",
              "      <th>City</th>\n",
              "      <th></th>\n",
              "      <th></th>\n",
              "      <th></th>\n",
              "      <th></th>\n",
              "    </tr>\n",
              "  </thead>\n",
              "  <tbody>\n",
              "    <tr>\n",
              "      <th>Caribbean</th>\n",
              "      <th>Dominican Republic</th>\n",
              "      <th>Santo Domingo</th>\n",
              "      <td>1.51</td>\n",
              "      <td>1.03</td>\n",
              "      <td>0.46</td>\n",
              "      <td>1.17</td>\n",
              "    </tr>\n",
              "    <tr>\n",
              "      <th rowspan=\"4\" valign=\"top\">Central America</th>\n",
              "      <th>Costa Rica</th>\n",
              "      <th>San Jose</th>\n",
              "      <td>2.64</td>\n",
              "      <td>1.23</td>\n",
              "      <td>1.18</td>\n",
              "      <td>2.16</td>\n",
              "    </tr>\n",
              "    <tr>\n",
              "      <th rowspan=\"3\" valign=\"top\">Mexico</th>\n",
              "      <th>Guadalajara</th>\n",
              "      <td>1.99</td>\n",
              "      <td>0.87</td>\n",
              "      <td>0.51</td>\n",
              "      <td>0.73</td>\n",
              "    </tr>\n",
              "    <tr>\n",
              "      <th>Mexico City</th>\n",
              "      <td>2.00</td>\n",
              "      <td>0.91</td>\n",
              "      <td>0.47</td>\n",
              "      <td>0.66</td>\n",
              "    </tr>\n",
              "    <tr>\n",
              "      <th>Monterrey</th>\n",
              "      <td>2.28</td>\n",
              "      <td>0.91</td>\n",
              "      <td>0.54</td>\n",
              "      <td>0.79</td>\n",
              "    </tr>\n",
              "  </tbody>\n",
              "</table>\n",
              "</div>"
            ],
            "text/plain": [
              "Unnamed: 0                                        Cappuccino_1cup  ...  Water_1.5l_bottle\n",
              "Region          Country            City                            ...                   \n",
              "Caribbean       Dominican Republic Santo Domingo             1.51  ...               1.17\n",
              "Central America Costa Rica         San Jose                  2.64  ...               2.16\n",
              "                Mexico             Guadalajara               1.99  ...               0.73\n",
              "                                   Mexico City               2.00  ...               0.66\n",
              "                                   Monterrey                 2.28  ...               0.79\n",
              "\n",
              "[5 rows x 4 columns]"
            ]
          },
          "metadata": {
            "tags": []
          },
          "execution_count": 2
        }
      ]
    },
    {
      "cell_type": "code",
      "metadata": {
        "id": "z9dV53EWuWIa",
        "colab_type": "code",
        "outputId": "ace21da2-a5cb-4fac-dba7-da37b303bd47",
        "colab": {
          "base_uri": "https://localhost:8080/",
          "height": 208
        }
      },
      "source": [
        "beverages.info(memory_usage='deep')"
      ],
      "execution_count": 3,
      "outputs": [
        {
          "output_type": "stream",
          "text": [
            "<class 'pandas.core.frame.DataFrame'>\n",
            "MultiIndex: 160 entries, ('Caribbean', 'Dominican Republic', 'Santo Domingo') to ('Western Europe', 'Switzerland', 'Zurich')\n",
            "Data columns (total 4 columns):\n",
            " #   Column              Non-Null Count  Dtype  \n",
            "---  ------              --------------  -----  \n",
            " 0   Cappuccino_1cup     160 non-null    float64\n",
            " 1   Milk_1l             160 non-null    float64\n",
            " 2   Water_0.33l_bottle  160 non-null    float64\n",
            " 3   Water_1.5l_bottle   160 non-null    float64\n",
            "dtypes: float64(4)\n",
            "memory usage: 22.9 KB\n"
          ],
          "name": "stdout"
        }
      ]
    },
    {
      "cell_type": "code",
      "metadata": {
        "id": "Uv1lDIWPT7N7",
        "colab_type": "code",
        "outputId": "e9fd6aeb-c2cc-4f6d-cc6f-247dfc702c7b",
        "colab": {
          "base_uri": "https://localhost:8080/",
          "height": 399
        }
      },
      "source": [
        "beverages.index"
      ],
      "execution_count": 4,
      "outputs": [
        {
          "output_type": "execute_result",
          "data": {
            "text/plain": [
              "MultiIndex([(      'Caribbean', 'Dominican Republic', 'Santo Domingo'),\n",
              "            ('Central America',         'Costa Rica',      'San Jose'),\n",
              "            ('Central America',             'Mexico',   'Guadalajara'),\n",
              "            ('Central America',             'Mexico',   'Mexico City'),\n",
              "            ('Central America',             'Mexico',     'Monterrey'),\n",
              "            ('Central America',             'Panama',   'Panama City'),\n",
              "            (   'Central Asia',         'Kazakhstan',        'Almaty'),\n",
              "            ( 'Eastern Africa',              'Kenya',       'Nairobi'),\n",
              "            (   'Eastern Asia',              'China',       'Beijing'),\n",
              "            (   'Eastern Asia',              'China',      'Shanghai'),\n",
              "            ...\n",
              "            ( 'Western Europe',             'France',         'Paris'),\n",
              "            ( 'Western Europe',            'Germany',        'Berlin'),\n",
              "            ( 'Western Europe',            'Germany',     'Frankfurt'),\n",
              "            ( 'Western Europe',            'Germany',       'Hamburg'),\n",
              "            ( 'Western Europe',            'Germany',        'Munich'),\n",
              "            ( 'Western Europe',        'Netherlands',     'Amsterdam'),\n",
              "            ( 'Western Europe',        'Netherlands',     'Eindhoven'),\n",
              "            ( 'Western Europe',        'Netherlands',     'Rotterdam'),\n",
              "            ( 'Western Europe',        'Netherlands',       'Utrecht'),\n",
              "            ( 'Western Europe',        'Switzerland',        'Zurich')],\n",
              "           names=['Region', 'Country', 'City'], length=160)"
            ]
          },
          "metadata": {
            "tags": []
          },
          "execution_count": 4
        }
      ]
    },
    {
      "cell_type": "code",
      "metadata": {
        "id": "rbhWiQSJAu4y",
        "colab_type": "code",
        "colab": {
          "base_uri": "https://localhost:8080/",
          "height": 251
        },
        "outputId": "0200235d-3b7a-4bc8-c4d9-8c9fd41b37a8"
      },
      "source": [
        "CorrelationObj.addCorrelationmap(8, 2)"
      ],
      "execution_count": 5,
      "outputs": [
        {
          "output_type": "display_data",
          "data": {
            "image/png": "[encoded data removed]",
            "text/plain": [
              "<Figure size 576x144 with 2 Axes>"
            ]
          },
          "metadata": {
            "tags": []
          }
        }
      ]
    }
  ]
}